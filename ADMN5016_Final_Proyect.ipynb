{
  "nbformat": 4,
  "nbformat_minor": 0,
  "metadata": {
    "colab": {
      "name": "ADMN5016_Final_Proyect.ipynb",
      "provenance": [],
      "collapsed_sections": [
        "XAoRT4D8BgRh"
      ]
    },
    "kernelspec": {
      "name": "python3",
      "display_name": "Python 3"
    },
    "language_info": {
      "name": "python"
    },
    "gpuClass": "standard",
    "accelerator": "GPU"
  },
  "cells": [
    {
      "cell_type": "markdown",
      "source": [
        "\n",
        "### ADMN5016: Assignment: Proof of Concept for Machine Learning Application"
      ],
      "metadata": {
        "id": "Cmi7C0tNtEi3"
      }
    },
    {
      "cell_type": "markdown",
      "source": [
        "# 1. The value of the Machine Learning Algorithm"
      ],
      "metadata": {
        "id": "1_hrgq62BRUE"
      }
    },
    {
      "cell_type": "markdown",
      "source": [
        "## 1. What problem your application solves?\n",
        "\n",
        "My application is a binary classification image. This kind of application can be useful for surveillance or facial recognition. I.E. detecting if a person is using glasses, a face mask, hat, etc.\n",
        "\n",
        "Also, can be used to prevent programs filling forms in webpages by the use of captcha.\n",
        "\n",
        "In general, there's a wide variety in utilization of Image Processing and binary classification\n"
      ],
      "metadata": {
        "id": "PwtbDfj72Fo2"
      }
    },
    {
      "cell_type": "markdown",
      "source": [
        "## 2. Explain your results.\n",
        "\n",
        "I perfomed two different models:\n",
        "* The first one was CNN Sequential with Rectified Linea Unit (RELU) and  Sigmoid activation  and optimizer RMSprop  defining a learining rate of 0.0001 (1e-4).\n",
        "> * The first attemp without dropout, this causes my model overfitting.\n",
        "> * The second attemp with dropout (at 50%), had a better accuracy.\n",
        "> > In the second attempt also added some adjustments to the image properties like rotation, width, height, zoom & flip\n",
        "* The second one was CNN Sequential with Rectified Linea Unit (RELU) and  Sigmoid activation functions and optimizer Adam."
      ],
      "metadata": {
        "id": "52UdvRDWgf_f"
      }
    },
    {
      "cell_type": "markdown",
      "source": [
        "## 3. What is the monetary value and risks of your application after its performance?\n",
        "\n",
        "This is an Artificial Intelligence model. This model achieves a 70%-80% accuracy; therefore, this is not an application that must be fully trustable. There are some wrong predictions and misclassification. Nonetheless, this program can save much time with image processing for companies' applications. Also, if this program is used to add an extra layer of security in web forms, this can prevent attacks on the site, saving money by preventing these attacks."
      ],
      "metadata": {
        "id": "sSRniPfS9E5P"
      }
    },
    {
      "cell_type": "markdown",
      "source": [
        "## 4. Other risks and benefits\n",
        "\n",
        "As mentioned before, Image Processing has a wide variety of applications nowadays that can be useful for companies.\n",
        "\n",
        "For example, in some places, during the COVID-19 pandemic, some companies purchased equipment and applications to detect whether a person is wearing a face mask.\n",
        "\n",
        "These applications are very useful as well for surveillance. In police departments, some applications can detect a person's face that is wanted. This would lead to further investigation and possible detention of the person.\n",
        "\n",
        "And regarding risks, technology is not 100% trustworthy. In most cases, there are misclassification or wrong predictions. Returning to the surveillance example, the facial recognition of an individual may lead to the detention of the wrong person. Thus, legal problems for the violation of the rights of an individual."
      ],
      "metadata": {
        "id": "MvP8mXd0-gQV"
      }
    },
    {
      "cell_type": "markdown",
      "source": [
        "# AI Application"
      ],
      "metadata": {
        "id": "6TlEG4OsBJQ_"
      }
    },
    {
      "cell_type": "markdown",
      "source": [
        "## Preparing the data"
      ],
      "metadata": {
        "id": "HeEqmvoYBbD4"
      }
    },
    {
      "cell_type": "code",
      "execution_count": null,
      "metadata": {
        "colab": {
          "base_uri": "https://localhost:8080/"
        },
        "id": "_k_vtIzaGXtK",
        "outputId": "2284ba16-5356-4ae8-968b-db36ca66d88e"
      },
      "outputs": [
        {
          "output_type": "stream",
          "name": "stdout",
          "text": [
            "Downloading cat-and-dog.zip to /content\n",
            " 89% 193M/218M [00:02<00:00, 74.3MB/s]\n",
            "100% 218M/218M [00:02<00:00, 97.4MB/s]\n"
          ]
        }
      ],
      "source": [
        "# Importing \"Cat and Dog\" dataset from Kaggle\n",
        "\n",
        "import os\n",
        "os.environ['KAGGLE_USERNAME'] = \"rolpablo\"\n",
        "os.environ['KAGGLE_KEY'] = \"665c3138c29f5524cafc357abf9647f4\"\n",
        "!kaggle datasets download -d tongpython/cat-and-dog"
      ]
    },
    {
      "cell_type": "code",
      "source": [
        "# Unzip and upload data to session\n",
        "\n",
        "from zipfile import ZipFile\n",
        "\n",
        "file_name = \"/content/cat-and-dog.zip\"\n",
        "\n",
        "with ZipFile(file_name, 'r') as zip:\n",
        "    zip.extractall()\n",
        "    print(\"Completed\")"
      ],
      "metadata": {
        "colab": {
          "base_uri": "https://localhost:8080/"
        },
        "id": "LT0o1tY5OBWN",
        "outputId": "c8165c36-889f-4c7b-de1d-193f99b5c49a"
      },
      "execution_count": null,
      "outputs": [
        {
          "output_type": "stream",
          "name": "stdout",
          "text": [
            "Completed\n"
          ]
        }
      ]
    },
    {
      "cell_type": "code",
      "source": [
        "# Create folder structure that will contain all data\n",
        "data_dir = '/content/data'\n",
        "os.mkdir(data_dir)\n",
        "\n",
        "cats_data_dir = os.path.join(data_dir, \"cats\")\n",
        "os.mkdir(cats_data_dir)\n",
        "\n",
        "dogs_data_dir = os.path.join(data_dir, \"dogs\")\n",
        "os.mkdir(dogs_data_dir)"
      ],
      "metadata": {
        "id": "dHytB4Z0Hbgp"
      },
      "execution_count": null,
      "outputs": []
    },
    {
      "cell_type": "code",
      "source": [
        "# Copy files to data/cats\n",
        "import shutil\n",
        "\n",
        "original_cats_dir = '/content/test_set/test_set/cats'\n",
        "\n",
        "fnames = ['cat.{}.jpg'.format(i) for i in range(4001,4999)]\n",
        "for fname in fnames:\n",
        "    src = os.path.join(original_cats_dir, fname)\n",
        "    dst = os.path.join(cats_data_dir, fname)\n",
        "    shutil.copyfile(src, dst)\n",
        "\n",
        "original_cats_dir = '/content/training_set/training_set/cats'\n",
        "\n",
        "fnames = ['cat.{}.jpg'.format(i) for i in range(1, 4000)]\n",
        "for fname in fnames:\n",
        "    src = os.path.join(original_cats_dir, fname)\n",
        "    dst = os.path.join(cats_data_dir, fname)\n",
        "    shutil.copyfile(src, dst)"
      ],
      "metadata": {
        "id": "KXJBlq6NXCg_"
      },
      "execution_count": null,
      "outputs": []
    },
    {
      "cell_type": "code",
      "source": [
        "# Count number of files in data/cats\n",
        "path, dirs, files = next(os.walk(\"/content/data/cats\"))\n",
        "file_count_cats = len(files)\n",
        "print(file_count_cats)"
      ],
      "metadata": {
        "colab": {
          "base_uri": "https://localhost:8080/"
        },
        "id": "-maSZg46ISlo",
        "outputId": "e1363200-6d6c-42b8-8b8e-2dac77904232"
      },
      "execution_count": null,
      "outputs": [
        {
          "output_type": "stream",
          "name": "stdout",
          "text": [
            "4997\n"
          ]
        }
      ]
    },
    {
      "cell_type": "code",
      "source": [
        "# Copy files to data/dogs\n",
        "\n",
        "original_dogs_dir = '/content/test_set/test_set/dogs'\n",
        "\n",
        "fnames = ['dog.{}.jpg'.format(i) for i in range(4001,4999)]\n",
        "for fname in fnames:\n",
        "    src = os.path.join(original_dogs_dir, fname)\n",
        "    dst = os.path.join(dogs_data_dir, fname)\n",
        "    shutil.copyfile(src, dst)\n",
        "\n",
        "original_dogs_dir = '/content/training_set/training_set/dogs'\n",
        "\n",
        "fnames = ['dog.{}.jpg'.format(i) for i in range(1, 4000)]\n",
        "for fname in fnames:\n",
        "    src = os.path.join(original_dogs_dir, fname)\n",
        "    dst = os.path.join(dogs_data_dir, fname)\n",
        "    shutil.copyfile(src, dst)"
      ],
      "metadata": {
        "id": "w-F-vNV3IugL"
      },
      "execution_count": null,
      "outputs": []
    },
    {
      "cell_type": "code",
      "source": [
        "# Count number of files in data/dogs\n",
        "path, dirs, files = next(os.walk(\"/content/data/dogs\"))\n",
        "file_count_dogs = len(files)\n",
        "print(file_count_dogs)"
      ],
      "metadata": {
        "colab": {
          "base_uri": "https://localhost:8080/"
        },
        "id": "UZaY1HUgJY1k",
        "outputId": "912b0bc7-bc6f-4a6e-e846-ecde679e7f74"
      },
      "execution_count": null,
      "outputs": [
        {
          "output_type": "stream",
          "name": "stdout",
          "text": [
            "4997\n"
          ]
        }
      ]
    },
    {
      "cell_type": "code",
      "source": [
        "# Remove original directories\n",
        "shutil.rmtree('/content/test_set')\n",
        "shutil.rmtree('/content/training_set')"
      ],
      "metadata": {
        "id": "qP9wMV_xMtcD"
      },
      "execution_count": null,
      "outputs": []
    },
    {
      "cell_type": "code",
      "source": [
        "# Create new folder structure\n",
        "base_directory = '/content/cats_and_dogs'\n",
        "os.mkdir(base_directory)\n",
        "\n",
        "training_directory = os.path.join(base_directory, 'train')\n",
        "os.mkdir(training_directory)\n",
        "\n",
        "validation_directory = os.path.join(base_directory, 'validation')\n",
        "os.mkdir(validation_directory)\n",
        "\n",
        "test_directory = os.path.join(base_directory, 'test')\n",
        "os.mkdir(test_directory)\n",
        "\n",
        "tr_cats_dir = os.path.join(training_directory, \"cats\")\n",
        "os.mkdir(tr_cats_dir)\n",
        "\n",
        "tr_dogs_dir = os.path.join(training_directory, \"dogs\")\n",
        "os.mkdir(tr_dogs_dir)\n",
        "\n",
        "va_cats_dir = os.path.join(validation_directory, \"cats\")\n",
        "os.mkdir(va_cats_dir)\n",
        "\n",
        "va_dogs_dir = os.path.join(validation_directory, \"dogs\")\n",
        "os.mkdir(va_dogs_dir)\n",
        "\n",
        "te_cats_dir = os.path.join(test_directory, \"cats\")\n",
        "os.mkdir(te_cats_dir)\n",
        "\n",
        "te_dogs_dir = os.path.join(test_directory, \"dogs\")\n",
        "os.mkdir(te_dogs_dir)"
      ],
      "metadata": {
        "id": "TktIN3JTC5bo"
      },
      "execution_count": null,
      "outputs": []
    },
    {
      "cell_type": "code",
      "source": [
        "# Copy cat files to new folder structure\n",
        "data_cats_dir = '/content/data/cats'\n",
        "\n",
        "fnames = ['cat.{}.jpg'.format(i) for i in range(1,1001)]\n",
        "for fname in fnames:\n",
        "    src = os.path.join(data_cats_dir, fname)\n",
        "    dst = os.path.join(tr_cats_dir, fname)\n",
        "    shutil.copyfile(src, dst)\n",
        "\n",
        "fnames = ['cat.{}.jpg'.format(i) for i in range(1001,2001)]\n",
        "for fname in fnames:\n",
        "    src = os.path.join(data_cats_dir, fname)\n",
        "    dst = os.path.join(va_cats_dir, fname)\n",
        "    shutil.copyfile(src, dst)\n",
        "\n",
        "fnames = ['cat.{}.jpg'.format(i) for i in range(2001,3001)]\n",
        "for fname in fnames:\n",
        "    src = os.path.join(data_cats_dir, fname)\n",
        "    dst = os.path.join(te_cats_dir, fname)\n",
        "    shutil.copyfile(src, dst)"
      ],
      "metadata": {
        "id": "2KX6zWwX4oIZ"
      },
      "execution_count": null,
      "outputs": []
    },
    {
      "cell_type": "code",
      "source": [
        "# Copy dog files to new folder structure\n",
        "data_dogs_dir = '/content/data/dogs'\n",
        "\n",
        "fnames = ['dog.{}.jpg'.format(i) for i in range(1,1001)]\n",
        "for fname in fnames:\n",
        "    src = os.path.join(data_dogs_dir, fname)\n",
        "    dst = os.path.join(tr_dogs_dir, fname)\n",
        "    shutil.copyfile(src, dst)\n",
        "\n",
        "fnames = ['dog.{}.jpg'.format(i) for i in range(1001,2001)]\n",
        "for fname in fnames:\n",
        "    src = os.path.join(data_dogs_dir, fname)\n",
        "    dst = os.path.join(va_dogs_dir, fname)\n",
        "    shutil.copyfile(src, dst)\n",
        "\n",
        "fnames = ['dog.{}.jpg'.format(i) for i in range(2001,3001)]\n",
        "for fname in fnames:\n",
        "    src = os.path.join(data_dogs_dir, fname)\n",
        "    dst = os.path.join(te_dogs_dir, fname)\n",
        "    shutil.copyfile(src, dst)"
      ],
      "metadata": {
        "id": "MWX8tcVoUH_9"
      },
      "execution_count": null,
      "outputs": []
    },
    {
      "cell_type": "code",
      "source": [
        "print(\"Total training cats images: \", len(os.listdir(tr_cats_dir)))\n",
        "print(\"Total validation cats images: \", len(os.listdir(va_cats_dir)))\n",
        "print(\"Total test cats images: \", len(os.listdir(te_cats_dir)))\n",
        "\n",
        "print(\"Total training dogs images: \", len(os.listdir(tr_dogs_dir)))\n",
        "print(\"Total validation dogs images: \", len(os.listdir(va_dogs_dir)))\n",
        "print(\"Total test dogs images: \", len(os.listdir(te_dogs_dir)))"
      ],
      "metadata": {
        "colab": {
          "base_uri": "https://localhost:8080/"
        },
        "id": "iTQnww6JUobv",
        "outputId": "0c4c407c-5f23-47b0-9776-fed5bae7bbe7"
      },
      "execution_count": null,
      "outputs": [
        {
          "output_type": "stream",
          "name": "stdout",
          "text": [
            "Total training cats images:  1000\n",
            "Total validation cats images:  1000\n",
            "Total test cats images:  1000\n",
            "Total training dogs images:  1000\n",
            "Total validation dogs images:  1000\n",
            "Total test dogs images:  1000\n"
          ]
        }
      ]
    },
    {
      "cell_type": "markdown",
      "source": [
        "## Model 1"
      ],
      "metadata": {
        "id": "XAoRT4D8BgRh"
      }
    },
    {
      "cell_type": "code",
      "source": [
        "import keras\n",
        "from keras import layers\n",
        "from keras import models\n",
        "\n",
        "model = models.Sequential()\n",
        "\n",
        "# Fisrt layer\n",
        "# Kernel = 32\n",
        "# Size = 3 x 3\n",
        "model.add(layers.Conv2D(32, (3, 3), activation='relu', input_shape=(150, 150, 3)))\n",
        "model.add(layers.MaxPooling2D(pool_size = (2, 2), strides = 2))\n",
        "\n",
        "# Second layer\n",
        "# Kernel = 64\n",
        "# Size = 3 x 3\n",
        "model.add(layers.Conv2D(64, (3, 3), activation='relu'))\n",
        "model.add(layers.MaxPooling2D(pool_size = (2, 2), strides = 2))\n",
        "\n",
        "# Third layer\n",
        "# Kernel = 128\n",
        "# Size = 3 x 3\n",
        "model.add(layers.Conv2D(128, (3, 3), activation='relu'))\n",
        "model.add(layers.MaxPooling2D(pool_size = (2, 2), strides = 2))\n",
        "\n",
        "# Fourth layer\n",
        "# Kernel = 128\n",
        "# Size = 3 x 3\n",
        "model.add(layers.Conv2D(128, (3, 3), activation='relu'))\n",
        "model.add(layers.MaxPooling2D(pool_size = (2, 2), strides = 2))\n",
        "\n",
        "# Flattening model\n",
        "model.add(layers.Flatten())\n",
        "\n",
        "model.add(layers.Dense(512, activation='relu'))\n",
        "model.add(layers.Dense(1, activation='sigmoid'))\n",
        "\n",
        "model.summary()"
      ],
      "metadata": {
        "colab": {
          "base_uri": "https://localhost:8080/"
        },
        "id": "Ww9PpU5Pts1d",
        "outputId": "f2a27aa7-cea9-4199-9593-d534ac5cacb5"
      },
      "execution_count": null,
      "outputs": [
        {
          "output_type": "stream",
          "name": "stdout",
          "text": [
            "Model: \"sequential\"\n",
            "_________________________________________________________________\n",
            " Layer (type)                Output Shape              Param #   \n",
            "=================================================================\n",
            " conv2d (Conv2D)             (None, 148, 148, 32)      896       \n",
            "                                                                 \n",
            " max_pooling2d (MaxPooling2D  (None, 74, 74, 32)       0         \n",
            " )                                                               \n",
            "                                                                 \n",
            " conv2d_1 (Conv2D)           (None, 72, 72, 64)        18496     \n",
            "                                                                 \n",
            " max_pooling2d_1 (MaxPooling  (None, 36, 36, 64)       0         \n",
            " 2D)                                                             \n",
            "                                                                 \n",
            " conv2d_2 (Conv2D)           (None, 34, 34, 128)       73856     \n",
            "                                                                 \n",
            " max_pooling2d_2 (MaxPooling  (None, 17, 17, 128)      0         \n",
            " 2D)                                                             \n",
            "                                                                 \n",
            " conv2d_3 (Conv2D)           (None, 15, 15, 128)       147584    \n",
            "                                                                 \n",
            " max_pooling2d_3 (MaxPooling  (None, 7, 7, 128)        0         \n",
            " 2D)                                                             \n",
            "                                                                 \n",
            " flatten (Flatten)           (None, 6272)              0         \n",
            "                                                                 \n",
            " dense (Dense)               (None, 512)               3211776   \n",
            "                                                                 \n",
            " dense_1 (Dense)             (None, 1)                 513       \n",
            "                                                                 \n",
            "=================================================================\n",
            "Total params: 3,453,121\n",
            "Trainable params: 3,453,121\n",
            "Non-trainable params: 0\n",
            "_________________________________________________________________\n"
          ]
        }
      ]
    },
    {
      "cell_type": "code",
      "source": [
        "from tensorflow.keras import optimizers\n",
        "\n",
        "model.compile (loss = 'binary_crossentropy', \n",
        "                            optimizer = optimizers.RMSprop(lr = 1e-4),\n",
        "                            metrics = ['acc'])"
      ],
      "metadata": {
        "colab": {
          "base_uri": "https://localhost:8080/"
        },
        "id": "YkN_AR7kv85A",
        "outputId": "d022ae5a-ffc9-4f4e-806a-99ae7c0b8021"
      },
      "execution_count": null,
      "outputs": [
        {
          "output_type": "stream",
          "name": "stderr",
          "text": [
            "/usr/local/lib/python3.7/dist-packages/keras/optimizer_v2/rmsprop.py:130: UserWarning: The `lr` argument is deprecated, use `learning_rate` instead.\n",
            "  super(RMSprop, self).__init__(name, **kwargs)\n"
          ]
        }
      ]
    },
    {
      "cell_type": "code",
      "source": [
        "from keras.preprocessing.image import ImageDataGenerator\n",
        "\n",
        "train_datagen = ImageDataGenerator(rescale=1./255)\n",
        "validation_datagen = ImageDataGenerator(rescale=1./255)\n",
        "\n",
        "train_generator = train_datagen.flow_from_directory(training_directory,\n",
        "                                                     target_size = (150, 150),\n",
        "                                                     batch_size = 20,\n",
        "                                                     class_mode = 'binary')\n",
        "\n",
        "validation_generator = validation_datagen.flow_from_directory(validation_directory,\n",
        "                                                     target_size = (150, 150),\n",
        "                                                     batch_size = 20,\n",
        "                                                     class_mode = 'binary')"
      ],
      "metadata": {
        "colab": {
          "base_uri": "https://localhost:8080/"
        },
        "id": "e0-WnxLK6HRh",
        "outputId": "d4d1b2e8-a474-4a86-c115-7aa150dfc355"
      },
      "execution_count": null,
      "outputs": [
        {
          "output_type": "stream",
          "name": "stdout",
          "text": [
            "Found 2000 images belonging to 2 classes.\n",
            "Found 2000 images belonging to 2 classes.\n"
          ]
        }
      ]
    },
    {
      "cell_type": "code",
      "source": [
        "history = model.fit_generator(train_generator,\n",
        "                                                        steps_per_epoch= 100,\n",
        "                                                        epochs = 30,\n",
        "                                                        validation_data = validation_generator,\n",
        "                                                        validation_steps = 10)\n",
        "model.save('cats_and_dogs_1.h5')"
      ],
      "metadata": {
        "colab": {
          "base_uri": "https://localhost:8080/"
        },
        "id": "DXPVW7W597tz",
        "outputId": "0f22fb59-6eb0-42da-e5ec-50bbc27a6217"
      },
      "execution_count": null,
      "outputs": [
        {
          "output_type": "stream",
          "name": "stderr",
          "text": [
            "/usr/local/lib/python3.7/dist-packages/ipykernel_launcher.py:5: UserWarning: `Model.fit_generator` is deprecated and will be removed in a future version. Please use `Model.fit`, which supports generators.\n",
            "  \"\"\"\n"
          ]
        },
        {
          "output_type": "stream",
          "name": "stdout",
          "text": [
            "Epoch 1/30\n",
            "100/100 [==============================] - 20s 70ms/step - loss: 0.6875 - acc: 0.5480 - val_loss: 0.7221 - val_acc: 0.4900\n",
            "Epoch 2/30\n",
            "100/100 [==============================] - 7s 72ms/step - loss: 0.6616 - acc: 0.6110 - val_loss: 0.6491 - val_acc: 0.6400\n",
            "Epoch 3/30\n",
            "100/100 [==============================] - 7s 70ms/step - loss: 0.6093 - acc: 0.6760 - val_loss: 0.6278 - val_acc: 0.6450\n",
            "Epoch 4/30\n",
            "100/100 [==============================] - 7s 69ms/step - loss: 0.5746 - acc: 0.6985 - val_loss: 0.6176 - val_acc: 0.6750\n",
            "Epoch 5/30\n",
            "100/100 [==============================] - 7s 70ms/step - loss: 0.5389 - acc: 0.7280 - val_loss: 0.5872 - val_acc: 0.6600\n",
            "Epoch 6/30\n",
            "100/100 [==============================] - 7s 70ms/step - loss: 0.4993 - acc: 0.7505 - val_loss: 0.5684 - val_acc: 0.7250\n",
            "Epoch 7/30\n",
            "100/100 [==============================] - 7s 71ms/step - loss: 0.4744 - acc: 0.7680 - val_loss: 0.5303 - val_acc: 0.6950\n",
            "Epoch 8/30\n",
            "100/100 [==============================] - 7s 70ms/step - loss: 0.4512 - acc: 0.7785 - val_loss: 0.6256 - val_acc: 0.6750\n",
            "Epoch 9/30\n",
            "100/100 [==============================] - 7s 71ms/step - loss: 0.4148 - acc: 0.8080 - val_loss: 0.5766 - val_acc: 0.7300\n",
            "Epoch 10/30\n",
            "100/100 [==============================] - 7s 71ms/step - loss: 0.3914 - acc: 0.8265 - val_loss: 0.4819 - val_acc: 0.7700\n",
            "Epoch 11/30\n",
            "100/100 [==============================] - 7s 70ms/step - loss: 0.3734 - acc: 0.8350 - val_loss: 0.5420 - val_acc: 0.7250\n",
            "Epoch 12/30\n",
            "100/100 [==============================] - 7s 70ms/step - loss: 0.3438 - acc: 0.8435 - val_loss: 0.5747 - val_acc: 0.7200\n",
            "Epoch 13/30\n",
            "100/100 [==============================] - 7s 68ms/step - loss: 0.3266 - acc: 0.8580 - val_loss: 0.5613 - val_acc: 0.7800\n",
            "Epoch 14/30\n",
            "100/100 [==============================] - 7s 70ms/step - loss: 0.2980 - acc: 0.8785 - val_loss: 0.7170 - val_acc: 0.6750\n",
            "Epoch 15/30\n",
            "100/100 [==============================] - 7s 69ms/step - loss: 0.2731 - acc: 0.8875 - val_loss: 0.5679 - val_acc: 0.7300\n",
            "Epoch 16/30\n",
            "100/100 [==============================] - 7s 70ms/step - loss: 0.2524 - acc: 0.8990 - val_loss: 0.7076 - val_acc: 0.7150\n",
            "Epoch 17/30\n",
            "100/100 [==============================] - 7s 72ms/step - loss: 0.2259 - acc: 0.9155 - val_loss: 0.5851 - val_acc: 0.7000\n",
            "Epoch 18/30\n",
            "100/100 [==============================] - 7s 71ms/step - loss: 0.2164 - acc: 0.9140 - val_loss: 0.6672 - val_acc: 0.6750\n",
            "Epoch 19/30\n",
            "100/100 [==============================] - 7s 71ms/step - loss: 0.1881 - acc: 0.9300 - val_loss: 0.7162 - val_acc: 0.7300\n",
            "Epoch 20/30\n",
            "100/100 [==============================] - 7s 71ms/step - loss: 0.1694 - acc: 0.9340 - val_loss: 0.6753 - val_acc: 0.7300\n",
            "Epoch 21/30\n",
            "100/100 [==============================] - 7s 71ms/step - loss: 0.1512 - acc: 0.9390 - val_loss: 0.6125 - val_acc: 0.7800\n",
            "Epoch 22/30\n",
            "100/100 [==============================] - 7s 71ms/step - loss: 0.1357 - acc: 0.9530 - val_loss: 0.5718 - val_acc: 0.7600\n",
            "Epoch 23/30\n",
            "100/100 [==============================] - 7s 70ms/step - loss: 0.1197 - acc: 0.9620 - val_loss: 0.8455 - val_acc: 0.7350\n",
            "Epoch 24/30\n",
            "100/100 [==============================] - 7s 68ms/step - loss: 0.1030 - acc: 0.9680 - val_loss: 1.0205 - val_acc: 0.6400\n",
            "Epoch 25/30\n",
            "100/100 [==============================] - 7s 70ms/step - loss: 0.0901 - acc: 0.9715 - val_loss: 0.9467 - val_acc: 0.7050\n",
            "Epoch 26/30\n",
            "100/100 [==============================] - 7s 70ms/step - loss: 0.0756 - acc: 0.9785 - val_loss: 0.9195 - val_acc: 0.7000\n",
            "Epoch 27/30\n",
            "100/100 [==============================] - 7s 71ms/step - loss: 0.0657 - acc: 0.9800 - val_loss: 1.0437 - val_acc: 0.7300\n",
            "Epoch 28/30\n",
            "100/100 [==============================] - 7s 70ms/step - loss: 0.0576 - acc: 0.9830 - val_loss: 0.9561 - val_acc: 0.7350\n",
            "Epoch 29/30\n",
            "100/100 [==============================] - 7s 70ms/step - loss: 0.0512 - acc: 0.9880 - val_loss: 0.9328 - val_acc: 0.7250\n",
            "Epoch 30/30\n",
            "100/100 [==============================] - 7s 70ms/step - loss: 0.0487 - acc: 0.9900 - val_loss: 0.8521 - val_acc: 0.7050\n"
          ]
        }
      ]
    },
    {
      "cell_type": "code",
      "source": [
        "import matplotlib.pyplot as plt\n",
        "\n",
        "accuracy = history.history['acc']\n",
        "val_acc = history.history['val_acc']\n",
        "loss = history.history['loss']\n",
        "val_loss = history.history['val_loss']\n",
        "\n",
        "epochs = range(1, len(accuracy) + 1)\n",
        "\n",
        "plt.plot(epochs, accuracy, 'bo', label = 'Training accuracy')\n",
        "plt.plot(epochs, val_acc, 'b', label = 'Validation accuracy')\n",
        "plt.title('Training and validation accuracy')\n",
        "plt.legend()\n",
        "\n",
        "plt.figure()\n",
        "\n",
        "plt.plot(epochs, loss, 'bo', label = 'Training loss')\n",
        "plt.plot(epochs, val_loss, 'b', label = 'Validation loss')\n",
        "plt.title('Training and validation loss')\n",
        "plt.legend()\n",
        "\n",
        "plt.show()"
      ],
      "metadata": {
        "colab": {
          "base_uri": "https://localhost:8080/",
          "height": 545
        },
        "id": "V6P9-XbYAVDl",
        "outputId": "15193d81-ed5e-4e24-ba2e-25772fa34b9a"
      },
      "execution_count": null,
      "outputs": [
        {
          "output_type": "display_data",
          "data": {
            "text/plain": [
              "<Figure size 432x288 with 1 Axes>"
            ],
            "image/png": "[encoded data removed]"
          },
          "metadata": {
            "needs_background": "light"
          }
        },
        {
          "output_type": "display_data",
          "data": {
            "text/plain": [
              "<Figure size 432x288 with 1 Axes>"
            ],
            "image/png": "[encoded data removed]"
          },
          "metadata": {
            "needs_background": "light"
          }
        }
      ]
    },
    {
      "cell_type": "markdown",
      "source": [
        "### Model 1 v2"
      ],
      "metadata": {
        "id": "RrYlKd6DB_Gy"
      }
    },
    {
      "cell_type": "code",
      "source": [
        "model = models.Sequential()\n",
        "\n",
        "# Fisrt layer\n",
        "# Kernel = 32\n",
        "# Size = 3 x 3\n",
        "model.add(layers.Conv2D(32, (3, 3), activation='relu', input_shape=(150, 150, 3)))\n",
        "model.add(layers.MaxPooling2D(pool_size = (2, 2), strides = 2))\n",
        "\n",
        "# Second layer\n",
        "# Kernel = 64\n",
        "# Size = 3 x 3\n",
        "model.add(layers.Conv2D(64, (3, 3), activation='relu'))\n",
        "model.add(layers.MaxPooling2D(pool_size = (2, 2), strides = 2))\n",
        "\n",
        "# Third layer\n",
        "# Kernel = 128\n",
        "# Size = 3 x 3\n",
        "model.add(layers.Conv2D(128, (3, 3), activation='relu'))\n",
        "model.add(layers.MaxPooling2D(pool_size = (2, 2), strides = 2))\n",
        "\n",
        "# Fourth layer\n",
        "# Kernel = 128\n",
        "# Size = 3 x 3\n",
        "model.add(layers.Conv2D(128, (3, 3), activation='relu'))\n",
        "model.add(layers.MaxPooling2D(pool_size = (2, 2), strides = 2))\n",
        "\n",
        "# Flattening model\n",
        "model.add(layers.Flatten())\n",
        "\n",
        "# Adding Dropout\n",
        "model.add(layers.Dropout(0.5))\n",
        "\n",
        "model.add(layers.Dense(512, activation='relu'))\n",
        "model.add(layers.Dense(1, activation='sigmoid'))\n",
        "\n",
        "model.summary()"
      ],
      "metadata": {
        "colab": {
          "base_uri": "https://localhost:8080/"
        },
        "id": "itKlktPlCZP5",
        "outputId": "3a632e78-de8b-4269-de7e-7e4847a39c3a"
      },
      "execution_count": null,
      "outputs": [
        {
          "output_type": "stream",
          "name": "stdout",
          "text": [
            "Model: \"sequential_1\"\n",
            "_________________________________________________________________\n",
            " Layer (type)                Output Shape              Param #   \n",
            "=================================================================\n",
            " conv2d_4 (Conv2D)           (None, 148, 148, 32)      896       \n",
            "                                                                 \n",
            " max_pooling2d_4 (MaxPooling  (None, 74, 74, 32)       0         \n",
            " 2D)                                                             \n",
            "                                                                 \n",
            " conv2d_5 (Conv2D)           (None, 72, 72, 64)        18496     \n",
            "                                                                 \n",
            " max_pooling2d_5 (MaxPooling  (None, 36, 36, 64)       0         \n",
            " 2D)                                                             \n",
            "                                                                 \n",
            " conv2d_6 (Conv2D)           (None, 34, 34, 128)       73856     \n",
            "                                                                 \n",
            " max_pooling2d_6 (MaxPooling  (None, 17, 17, 128)      0         \n",
            " 2D)                                                             \n",
            "                                                                 \n",
            " conv2d_7 (Conv2D)           (None, 15, 15, 128)       147584    \n",
            "                                                                 \n",
            " max_pooling2d_7 (MaxPooling  (None, 7, 7, 128)        0         \n",
            " 2D)                                                             \n",
            "                                                                 \n",
            " flatten_1 (Flatten)         (None, 6272)              0         \n",
            "                                                                 \n",
            " dropout (Dropout)           (None, 6272)              0         \n",
            "                                                                 \n",
            " dense_2 (Dense)             (None, 512)               3211776   \n",
            "                                                                 \n",
            " dense_3 (Dense)             (None, 1)                 513       \n",
            "                                                                 \n",
            "=================================================================\n",
            "Total params: 3,453,121\n",
            "Trainable params: 3,453,121\n",
            "Non-trainable params: 0\n",
            "_________________________________________________________________\n"
          ]
        }
      ]
    },
    {
      "cell_type": "code",
      "source": [
        "model.compile (loss = 'binary_crossentropy', \n",
        "                            optimizer = optimizers.RMSprop(lr = 1e-4),\n",
        "                            metrics = ['acc'])"
      ],
      "metadata": {
        "colab": {
          "base_uri": "https://localhost:8080/"
        },
        "id": "lX0rHELwQjhq",
        "outputId": "a12031f8-0d49-4f2c-f971-484e628b6f6b"
      },
      "execution_count": null,
      "outputs": [
        {
          "output_type": "stream",
          "name": "stderr",
          "text": [
            "/usr/local/lib/python3.7/dist-packages/keras/optimizer_v2/rmsprop.py:130: UserWarning: The `lr` argument is deprecated, use `learning_rate` instead.\n",
            "  super(RMSprop, self).__init__(name, **kwargs)\n"
          ]
        }
      ]
    },
    {
      "cell_type": "code",
      "source": [
        "# Image Adjustments\n",
        "\n",
        "train_datagen = ImageDataGenerator(rescale=1./255,\n",
        "                                                                        rotation_range=40,\n",
        "                                                                        width_shift_range=0.2,\n",
        "                                                                        height_shift_range=0.2,\n",
        "                                                                        shear_range=0.2,\n",
        "                                                                        zoom_range=0.2,\n",
        "                                                                        horizontal_flip=True)\n",
        "\n",
        "validation_datagen = ImageDataGenerator(rescale=1./255,\n",
        "                                                                        rotation_range=40,\n",
        "                                                                        width_shift_range=0.2,\n",
        "                                                                        height_shift_range=0.2,\n",
        "                                                                        shear_range=0.2,\n",
        "                                                                        zoom_range=0.2,\n",
        "                                                                        horizontal_flip=True)\n",
        "\n",
        "train_generator = train_datagen.flow_from_directory(training_directory,\n",
        "                                                                                                    target_size = (150, 150),\n",
        "                                                                                                    batch_size = 20,\n",
        "                                                                                                    class_mode = 'binary')\n",
        "\n",
        "validation_generator = validation_datagen.flow_from_directory(validation_directory,\n",
        "                                                                                                                        target_size = (150, 150),\n",
        "                                                                                                                        batch_size = 20,\n",
        "                                                                                                                        class_mode = 'binary')"
      ],
      "metadata": {
        "colab": {
          "base_uri": "https://localhost:8080/"
        },
        "id": "RAq737-LG1EL",
        "outputId": "77b2c787-f38a-4667-a8fa-9288966313c5"
      },
      "execution_count": null,
      "outputs": [
        {
          "output_type": "stream",
          "name": "stdout",
          "text": [
            "Found 2000 images belonging to 2 classes.\n",
            "Found 2000 images belonging to 2 classes.\n"
          ]
        }
      ]
    },
    {
      "cell_type": "code",
      "source": [
        "history = model.fit_generator(train_generator,\n",
        "                                                        steps_per_epoch= 100,\n",
        "                                                        epochs = 30,\n",
        "                                                        validation_data = validation_generator,\n",
        "                                                        validation_steps = 50)"
      ],
      "metadata": {
        "colab": {
          "base_uri": "https://localhost:8080/"
        },
        "id": "k_B36zTwLq8S",
        "outputId": "92080fa3-7713-4189-f7f3-aba32da8938e"
      },
      "execution_count": null,
      "outputs": [
        {
          "output_type": "stream",
          "name": "stdout",
          "text": [
            "Epoch 1/30\n"
          ]
        },
        {
          "output_type": "stream",
          "name": "stderr",
          "text": [
            "/usr/local/lib/python3.7/dist-packages/ipykernel_launcher.py:5: UserWarning: `Model.fit_generator` is deprecated and will be removed in a future version. Please use `Model.fit`, which supports generators.\n",
            "  \"\"\"\n"
          ]
        },
        {
          "output_type": "stream",
          "name": "stdout",
          "text": [
            "100/100 [==============================] - 27s 259ms/step - loss: 0.6957 - acc: 0.5015 - val_loss: 0.6882 - val_acc: 0.5530\n",
            "Epoch 2/30\n",
            "100/100 [==============================] - 27s 266ms/step - loss: 0.6851 - acc: 0.5565 - val_loss: 0.7101 - val_acc: 0.5010\n",
            "Epoch 3/30\n",
            "100/100 [==============================] - 25s 256ms/step - loss: 0.6766 - acc: 0.5670 - val_loss: 0.6619 - val_acc: 0.5910\n",
            "Epoch 4/30\n",
            "100/100 [==============================] - 25s 255ms/step - loss: 0.6600 - acc: 0.5895 - val_loss: 0.6483 - val_acc: 0.6040\n",
            "Epoch 5/30\n",
            "100/100 [==============================] - 22s 224ms/step - loss: 0.6422 - acc: 0.6165 - val_loss: 0.6447 - val_acc: 0.6360\n",
            "Epoch 6/30\n",
            "100/100 [==============================] - 22s 225ms/step - loss: 0.6280 - acc: 0.6340 - val_loss: 0.6440 - val_acc: 0.6350\n",
            "Epoch 7/30\n",
            "100/100 [==============================] - 22s 222ms/step - loss: 0.6192 - acc: 0.6595 - val_loss: 0.6349 - val_acc: 0.6320\n",
            "Epoch 8/30\n",
            "100/100 [==============================] - 22s 224ms/step - loss: 0.6054 - acc: 0.6655 - val_loss: 0.6168 - val_acc: 0.6610\n",
            "Epoch 9/30\n",
            "100/100 [==============================] - 25s 254ms/step - loss: 0.6126 - acc: 0.6685 - val_loss: 0.6072 - val_acc: 0.6550\n",
            "Epoch 10/30\n",
            "100/100 [==============================] - 22s 223ms/step - loss: 0.5979 - acc: 0.6810 - val_loss: 0.6225 - val_acc: 0.6580\n",
            "Epoch 11/30\n",
            "100/100 [==============================] - 22s 223ms/step - loss: 0.5862 - acc: 0.6890 - val_loss: 0.5918 - val_acc: 0.6660\n",
            "Epoch 12/30\n",
            "100/100 [==============================] - 25s 253ms/step - loss: 0.5894 - acc: 0.6820 - val_loss: 0.5989 - val_acc: 0.6790\n",
            "Epoch 13/30\n",
            "100/100 [==============================] - 22s 224ms/step - loss: 0.5816 - acc: 0.6875 - val_loss: 0.6426 - val_acc: 0.6460\n",
            "Epoch 14/30\n",
            "100/100 [==============================] - 23s 227ms/step - loss: 0.5786 - acc: 0.6930 - val_loss: 0.6873 - val_acc: 0.6170\n",
            "Epoch 15/30\n",
            "100/100 [==============================] - 22s 223ms/step - loss: 0.5765 - acc: 0.6960 - val_loss: 0.6097 - val_acc: 0.6600\n",
            "Epoch 16/30\n",
            "100/100 [==============================] - 22s 223ms/step - loss: 0.5646 - acc: 0.6980 - val_loss: 0.6057 - val_acc: 0.6700\n",
            "Epoch 17/30\n",
            "100/100 [==============================] - 22s 225ms/step - loss: 0.5709 - acc: 0.6930 - val_loss: 0.6099 - val_acc: 0.6660\n",
            "Epoch 18/30\n",
            "100/100 [==============================] - 22s 224ms/step - loss: 0.5608 - acc: 0.7095 - val_loss: 0.6049 - val_acc: 0.6800\n",
            "Epoch 19/30\n",
            "100/100 [==============================] - 22s 224ms/step - loss: 0.5592 - acc: 0.7090 - val_loss: 0.5848 - val_acc: 0.6990\n",
            "Epoch 20/30\n",
            "100/100 [==============================] - 22s 219ms/step - loss: 0.5543 - acc: 0.7155 - val_loss: 0.5917 - val_acc: 0.6730\n",
            "Epoch 21/30\n",
            "100/100 [==============================] - 22s 222ms/step - loss: 0.5575 - acc: 0.7065 - val_loss: 0.5648 - val_acc: 0.6940\n",
            "Epoch 22/30\n",
            "100/100 [==============================] - 22s 222ms/step - loss: 0.5305 - acc: 0.7380 - val_loss: 0.5713 - val_acc: 0.6780\n",
            "Epoch 23/30\n",
            "100/100 [==============================] - 22s 221ms/step - loss: 0.5440 - acc: 0.7170 - val_loss: 0.6508 - val_acc: 0.6730\n",
            "Epoch 24/30\n",
            "100/100 [==============================] - 22s 221ms/step - loss: 0.5322 - acc: 0.7260 - val_loss: 0.5915 - val_acc: 0.6890\n",
            "Epoch 25/30\n",
            "100/100 [==============================] - 22s 223ms/step - loss: 0.5469 - acc: 0.7180 - val_loss: 0.5703 - val_acc: 0.7060\n",
            "Epoch 26/30\n",
            "100/100 [==============================] - 22s 222ms/step - loss: 0.5333 - acc: 0.7290 - val_loss: 0.5961 - val_acc: 0.6860\n",
            "Epoch 27/30\n",
            "100/100 [==============================] - 22s 222ms/step - loss: 0.5362 - acc: 0.7370 - val_loss: 0.5915 - val_acc: 0.6890\n",
            "Epoch 28/30\n",
            "100/100 [==============================] - 22s 224ms/step - loss: 0.5249 - acc: 0.7435 - val_loss: 0.5602 - val_acc: 0.7040\n",
            "Epoch 29/30\n",
            "100/100 [==============================] - 25s 254ms/step - loss: 0.5261 - acc: 0.7375 - val_loss: 0.5544 - val_acc: 0.7140\n",
            "Epoch 30/30\n",
            "100/100 [==============================] - 23s 226ms/step - loss: 0.5236 - acc: 0.7430 - val_loss: 0.5872 - val_acc: 0.7000\n"
          ]
        }
      ]
    },
    {
      "cell_type": "code",
      "source": [
        "accuracy = history.history['acc']\n",
        "val_acc = history.history['val_acc']\n",
        "loss = history.history['loss']\n",
        "val_loss = history.history['val_loss']\n",
        "\n",
        "epochs = range(1, len(accuracy) + 1)\n",
        "\n",
        "plt.plot(epochs, accuracy, 'bo', label = 'Training accuracy')\n",
        "plt.plot(epochs, val_acc, 'b', label = 'Validation accuracy')\n",
        "plt.title('Training and validation accuracy')\n",
        "plt.legend()\n",
        "\n",
        "plt.figure()\n",
        "\n",
        "plt.plot(epochs, loss, 'bo', label = 'Training loss')\n",
        "plt.plot(epochs, val_loss, 'b', label = 'Validation loss')\n",
        "plt.title('Training and validation loss')\n",
        "plt.legend()\n",
        "\n",
        "plt.show()"
      ],
      "metadata": {
        "colab": {
          "base_uri": "https://localhost:8080/",
          "height": 545
        },
        "id": "sou-6JEQKoBe",
        "outputId": "2808c19b-6fea-4d80-e20b-cbce3e721f8c"
      },
      "execution_count": null,
      "outputs": [
        {
          "output_type": "display_data",
          "data": {
            "text/plain": [
              "<Figure size 432x288 with 1 Axes>"
            ],
            "image/png": "[encoded data removed]"
          },
          "metadata": {
            "needs_background": "light"
          }
        },
        {
          "output_type": "display_data",
          "data": {
            "text/plain": [
              "<Figure size 432x288 with 1 Axes>"
            ],
            "image/png": "[encoded data removed]"
          },
          "metadata": {
            "needs_background": "light"
          }
        }
      ]
    },
    {
      "cell_type": "markdown",
      "source": [
        "## Model 2"
      ],
      "metadata": {
        "id": "QmjBIlG6Om5u"
      }
    },
    {
      "cell_type": "code",
      "source": [
        "import tensorflow\n",
        "from tensorflow import keras\n",
        "from tensorflow.keras import Sequential\n",
        "from tensorflow.keras.layers import Dense, Flatten, Conv2D, MaxPool2D, Dropout\n",
        "from tensorflow.keras.preprocessing import image_dataset_from_directory\n",
        "from tensorflow.keras.preprocessing.image import ImageDataGenerator"
      ],
      "metadata": {
        "id": "IhdsZRCwMrfh"
      },
      "execution_count": null,
      "outputs": []
    },
    {
      "cell_type": "code",
      "source": [
        "train_data_gen = ImageDataGenerator(rescale = 1/255,\n",
        "                                                                        shear_range = 0.2,\n",
        "                                                                        horizontal_flip = True)\n",
        "\n",
        "validation_data_gen = ImageDataGenerator(rescale = 1/255)"
      ],
      "metadata": {
        "id": "ZqrXPoMKOsFY"
      },
      "execution_count": null,
      "outputs": []
    },
    {
      "cell_type": "code",
      "source": [
        "train_path = '/content/cats_and_dogs/train'\n",
        "train_set = train_data_gen.flow_from_directory(\n",
        "    train_path, target_size = (64,64),\n",
        "    batch_size = 32,\n",
        "    class_mode = 'binary'\n",
        ")"
      ],
      "metadata": {
        "colab": {
          "base_uri": "https://localhost:8080/"
        },
        "id": "7z6q6x5cPBzY",
        "outputId": "1ce5f567-48f9-4c8f-d25e-2c2e06ccd380"
      },
      "execution_count": null,
      "outputs": [
        {
          "output_type": "stream",
          "name": "stdout",
          "text": [
            "Found 2000 images belonging to 2 classes.\n"
          ]
        }
      ]
    },
    {
      "cell_type": "code",
      "source": [
        "validation_path = ('/content/cats_and_dogs/validation')\n",
        "validation_set = validation_data_gen.flow_from_directory(\n",
        "    validation_path,\n",
        "    target_size = (64, 64),\n",
        "    batch_size = 32,\n",
        "    class_mode = 'binary'\n",
        ")"
      ],
      "metadata": {
        "colab": {
          "base_uri": "https://localhost:8080/"
        },
        "id": "4K3E_LYEPvc3",
        "outputId": "51bbe366-a8a3-42c6-927c-dfeaa7988ae0"
      },
      "execution_count": null,
      "outputs": [
        {
          "output_type": "stream",
          "name": "stdout",
          "text": [
            "Found 2000 images belonging to 2 classes.\n"
          ]
        }
      ]
    },
    {
      "cell_type": "code",
      "source": [
        "model = Sequential()\n",
        "\n",
        "# Layer 1\n",
        "model.add(Conv2D(filters = 32, kernel_size = 2, activation = 'relu', input_shape = (64,64,3)))\n",
        "model.add(MaxPool2D())\n",
        "\n",
        "# Layer 2\n",
        "model.add(Conv2D(filters = 64, kernel_size = 2, activation = 'relu'))\n",
        "model.add(MaxPool2D())\n",
        "\n",
        "# Layer 3\n",
        "model.add(Conv2D(filters = 128, kernel_size = 2, activation = 'relu'))\n",
        "model.add(MaxPool2D())\n",
        "\n",
        "# Flattening model\n",
        "model.add(Flatten())\n",
        "\n",
        "# ANN Layer 1\n",
        "model.add(Dense(128, activation='relu'))\n",
        "\n",
        "# ANN Layer 2\n",
        "model.add(Dense(64, activation='sigmoid'))\n",
        "\n",
        "# ANN Layer 3\n",
        "model.add(Dense(32, activation='relu'))\n",
        "\n",
        "# Output Layer\n",
        "model.add(Dense(1, activation = 'sigmoid'))"
      ],
      "metadata": {
        "id": "vnVPtRc6K6GO"
      },
      "execution_count": null,
      "outputs": []
    },
    {
      "cell_type": "code",
      "source": [
        "model.summary()"
      ],
      "metadata": {
        "colab": {
          "base_uri": "https://localhost:8080/"
        },
        "id": "Gm8P4irQNC2J",
        "outputId": "c8ee7899-bda8-471c-c2da-27d14dad1557"
      },
      "execution_count": null,
      "outputs": [
        {
          "output_type": "stream",
          "name": "stdout",
          "text": [
            "Model: \"sequential_3\"\n",
            "_________________________________________________________________\n",
            " Layer (type)                Output Shape              Param #   \n",
            "=================================================================\n",
            " conv2d_9 (Conv2D)           (None, 63, 63, 32)        416       \n",
            "                                                                 \n",
            " max_pooling2d_8 (MaxPooling  (None, 31, 31, 32)       0         \n",
            " 2D)                                                             \n",
            "                                                                 \n",
            " conv2d_10 (Conv2D)          (None, 30, 30, 64)        8256      \n",
            "                                                                 \n",
            " max_pooling2d_9 (MaxPooling  (None, 15, 15, 64)       0         \n",
            " 2D)                                                             \n",
            "                                                                 \n",
            " conv2d_11 (Conv2D)          (None, 14, 14, 128)       32896     \n",
            "                                                                 \n",
            " max_pooling2d_10 (MaxPoolin  (None, 7, 7, 128)        0         \n",
            " g2D)                                                            \n",
            "                                                                 \n",
            " flatten_2 (Flatten)         (None, 6272)              0         \n",
            "                                                                 \n",
            " dense_4 (Dense)             (None, 128)               802944    \n",
            "                                                                 \n",
            " dense_5 (Dense)             (None, 64)                8256      \n",
            "                                                                 \n",
            " dense_6 (Dense)             (None, 32)                2080      \n",
            "                                                                 \n",
            " dense_7 (Dense)             (None, 1)                 33        \n",
            "                                                                 \n",
            "=================================================================\n",
            "Total params: 854,881\n",
            "Trainable params: 854,881\n",
            "Non-trainable params: 0\n",
            "_________________________________________________________________\n"
          ]
        }
      ]
    },
    {
      "cell_type": "code",
      "source": [
        "model.compile(\n",
        "    optimizer = 'adam',\n",
        "    loss = 'binary_crossentropy',\n",
        "    metrics = 'accuracy\n",
        "    ')"
      ],
      "metadata": {
        "id": "OUahwWGCNI5M"
      },
      "execution_count": null,
      "outputs": []
    },
    {
      "cell_type": "code",
      "source": [
        "model.save('cats_and_dogs_2.h5')"
      ],
      "metadata": {
        "id": "htNdaYE5DPfy"
      },
      "execution_count": null,
      "outputs": []
    },
    {
      "cell_type": "code",
      "source": [
        "history = model.fit(train_set,\n",
        "                    epochs = 20,\n",
        "                    validation_data = validation_set,\n",
        "                    batch_size = 32)"
      ],
      "metadata": {
        "colab": {
          "base_uri": "https://localhost:8080/"
        },
        "id": "PZD61kVtNSCy",
        "outputId": "eec72803-5dfb-41ee-ad77-d5dcc1f032a3"
      },
      "execution_count": null,
      "outputs": [
        {
          "output_type": "stream",
          "name": "stdout",
          "text": [
            "Epoch 1/20\n",
            "63/63 [==============================] - 12s 184ms/step - loss: 0.1313 - accuracy: 0.9495 - val_loss: 0.7236 - val_accuracy: 0.7390\n",
            "Epoch 2/20\n",
            "63/63 [==============================] - 11s 180ms/step - loss: 0.1446 - accuracy: 0.9440 - val_loss: 0.7492 - val_accuracy: 0.7435\n",
            "Epoch 3/20\n",
            "63/63 [==============================] - 11s 181ms/step - loss: 0.0996 - accuracy: 0.9650 - val_loss: 0.8132 - val_accuracy: 0.7380\n",
            "Epoch 4/20\n",
            "63/63 [==============================] - 11s 182ms/step - loss: 0.0830 - accuracy: 0.9715 - val_loss: 0.8573 - val_accuracy: 0.7430\n",
            "Epoch 5/20\n",
            "63/63 [==============================] - 11s 183ms/step - loss: 0.1326 - accuracy: 0.9445 - val_loss: 0.8324 - val_accuracy: 0.7495\n",
            "Epoch 6/20\n",
            "63/63 [==============================] - 11s 180ms/step - loss: 0.0719 - accuracy: 0.9725 - val_loss: 0.8765 - val_accuracy: 0.7355\n",
            "Epoch 7/20\n",
            "63/63 [==============================] - 11s 181ms/step - loss: 0.0397 - accuracy: 0.9875 - val_loss: 0.9826 - val_accuracy: 0.7275\n",
            "Epoch 8/20\n",
            "63/63 [==============================] - 11s 181ms/step - loss: 0.0455 - accuracy: 0.9855 - val_loss: 0.9840 - val_accuracy: 0.7570\n",
            "Epoch 9/20\n",
            "63/63 [==============================] - 11s 182ms/step - loss: 0.0302 - accuracy: 0.9920 - val_loss: 1.0703 - val_accuracy: 0.7385\n",
            "Epoch 10/20\n",
            "63/63 [==============================] - 11s 182ms/step - loss: 0.0602 - accuracy: 0.9785 - val_loss: 0.9883 - val_accuracy: 0.7400\n",
            "Epoch 11/20\n",
            "63/63 [==============================] - 11s 181ms/step - loss: 0.0164 - accuracy: 0.9970 - val_loss: 1.1607 - val_accuracy: 0.7320\n",
            "Epoch 12/20\n",
            "63/63 [==============================] - 11s 181ms/step - loss: 0.0114 - accuracy: 0.9970 - val_loss: 1.1871 - val_accuracy: 0.7420\n",
            "Epoch 13/20\n",
            "63/63 [==============================] - 11s 181ms/step - loss: 0.0066 - accuracy: 0.9990 - val_loss: 1.2562 - val_accuracy: 0.7320\n",
            "Epoch 14/20\n",
            "63/63 [==============================] - 11s 181ms/step - loss: 0.0334 - accuracy: 0.9875 - val_loss: 1.1998 - val_accuracy: 0.7485\n",
            "Epoch 15/20\n",
            "63/63 [==============================] - 11s 181ms/step - loss: 0.0285 - accuracy: 0.9910 - val_loss: 1.2196 - val_accuracy: 0.7455\n",
            "Epoch 16/20\n",
            "63/63 [==============================] - 11s 181ms/step - loss: 0.0541 - accuracy: 0.9810 - val_loss: 1.1637 - val_accuracy: 0.7435\n",
            "Epoch 17/20\n",
            "63/63 [==============================] - 11s 181ms/step - loss: 0.0637 - accuracy: 0.9750 - val_loss: 1.1539 - val_accuracy: 0.7345\n",
            "Epoch 18/20\n",
            "63/63 [==============================] - 11s 180ms/step - loss: 0.0381 - accuracy: 0.9865 - val_loss: 1.1740 - val_accuracy: 0.7295\n",
            "Epoch 19/20\n",
            "63/63 [==============================] - 11s 181ms/step - loss: 0.0130 - accuracy: 0.9955 - val_loss: 1.2161 - val_accuracy: 0.7310\n",
            "Epoch 20/20\n",
            "63/63 [==============================] - 11s 180ms/step - loss: 0.0225 - accuracy: 0.9935 - val_loss: 1.2983 - val_accuracy: 0.7210\n"
          ]
        }
      ]
    },
    {
      "cell_type": "code",
      "source": [
        "accuracy = history.history['accuracy']\n",
        "val_acc = history.history['val_accuracy']\n",
        "loss = history.history['loss']\n",
        "val_loss = history.history['val_loss']\n",
        "\n",
        "epochs = range(1, len(accuracy) + 1)\n",
        "\n",
        "plt.plot(epochs, accuracy, 'bo', label = 'Training accuracy')\n",
        "plt.plot(epochs, val_acc, 'b', label = 'Validation accuracy')\n",
        "plt.title('Training and validation accuracy')\n",
        "plt.legend()\n",
        "\n",
        "plt.figure()\n",
        "\n",
        "plt.plot(epochs, loss, 'bo', label = 'Training loss')\n",
        "plt.plot(epochs, val_loss, 'b', label = 'Validation loss')\n",
        "plt.title('Training and validation loss')\n",
        "plt.legend()\n",
        "\n",
        "plt.show()"
      ],
      "metadata": {
        "colab": {
          "base_uri": "https://localhost:8080/",
          "height": 545
        },
        "id": "JL40_0pMU2xA",
        "outputId": "8a123e16-1bd7-43bc-fe5d-3b306dc840cd"
      },
      "execution_count": null,
      "outputs": [
        {
          "output_type": "display_data",
          "data": {
            "text/plain": [
              "<Figure size 432x288 with 1 Axes>"
            ],
            "image/png": "[encoded data removed]"
          },
          "metadata": {
            "needs_background": "light"
          }
        },
        {
          "output_type": "display_data",
          "data": {
            "text/plain": [
              "<Figure size 432x288 with 1 Axes>"
            ],
            "image/png": "[encoded data removed]"
          },
          "metadata": {
            "needs_background": "light"
          }
        }
      ]
    }
  ]
}